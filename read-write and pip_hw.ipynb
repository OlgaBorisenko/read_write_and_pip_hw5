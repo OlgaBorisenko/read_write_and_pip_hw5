{
 "cells": [
  {
   "cell_type": "markdown",
   "metadata": {},
   "source": [
    "Домашнее задание\n",
    "\n",
    "1. Переведите содержимое файла purchase_log.txt в словарь purchases вида:\n",
    "\n",
    "    {'1840e0b9d4': 'Продукты', ...}\n",
    "\n",
    "2. Для каждого user_id в файле visit_log.csv добавьте третий столбец с категорией покупки (если покупка была).\n",
    "\n",
    "3. Запишите в файл funnel.csv визиты из файла visit_log.csv, в которых были покупки с указанием категории.\n",
    "\n",
    "Учтите условия на данные:\n",
    "\n",
    "    содержимое purchase_log.txt помещается в оперативную память компьютера\n",
    "    содержимое visit_log.csv - нет; используйте только построчную обработку этого файла\n",
    "\n"
   ]
  },
  {
   "cell_type": "code",
   "execution_count": 112,
   "metadata": {},
   "outputs": [],
   "source": [
    "import json\n",
    "\n",
    "with open('purchase_log.txt', 'r', encoding = 'utf-8') as p:\n",
    "    p.readline()\n",
    "    purchases = {}\n",
    "    for line in p:\n",
    "        line = json.loads(line)\n",
    "        purchases.setdefault(line.get(\"user_id\"), [])\n",
    "        purchases[line.get(\"user_id\")].append(line.get(\"category\"))\n",
    "    \n",
    "with open('visit_log.csv', 'r', encoding = 'utf-8') as v, open('funnel.csv', 'w', encoding = 'utf-8') as f:\n",
    "        v.readline()\n",
    "        f.write(\"user_id;source;category\\n\")\n",
    "        for line in v:\n",
    "            line = v.readline().strip().split(',')\n",
    "            #print(line)\n",
    "            if purchases.get(line[0]):\n",
    "                for i in purchases.get(line[0]):\n",
    "                    line.append(i)\n",
    "                f.write(';'.join(line) + '\\n')"
   ]
  },
  {
   "cell_type": "code",
   "execution_count": 69,
   "metadata": {},
   "outputs": [],
   "source": [
    "\n"
   ]
  }
 ],
 "metadata": {
  "kernelspec": {
   "display_name": "Python 3",
   "language": "python",
   "name": "python3"
  },
  "language_info": {
   "codemirror_mode": {
    "name": "ipython",
    "version": 3
   },
   "file_extension": ".py",
   "mimetype": "text/x-python",
   "name": "python",
   "nbconvert_exporter": "python",
   "pygments_lexer": "ipython3",
   "version": "3.7.4"
  }
 },
 "nbformat": 4,
 "nbformat_minor": 2
}
